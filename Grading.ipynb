{
 "cells": [
  {
   "cell_type": "code",
   "execution_count": 4,
   "metadata": {},
   "outputs": [
    {
     "name": "stdin",
     "output_type": "stream",
     "text": [
      "What grade percentage did you recieve? 80\n",
      "What was your target grade? C\n"
     ]
    },
    {
     "name": "stdout",
     "output_type": "stream",
     "text": [
      "A\n",
      "Your target grade was C . Your grade is  None\n"
     ]
    }
   ],
   "source": [
    "def mark_grade (mark):\n",
    "    if mark >= 90 :\n",
    "        print (\"A*\")\n",
    "    elif mark >= 80:\n",
    "        print (\"A\")\n",
    "    elif mark >= 70:\n",
    "        print (\"B\")\n",
    "    elif mark >= 60:\n",
    "        print (\"C\")\n",
    "    else:\n",
    "        print (\"F\")\n",
    "        \n",
    "mark = input(\"What grade percentage did you recieve?\")\n",
    "targetgrade = input(\"What was your target grade?\")\n",
    "\n",
    "grade = mark_grade (int(mark))\n",
    "print (\"Your target grade was\", targetgrade , \". Your grade is \" , grade)"
   ]
  },
  {
   "cell_type": "code",
   "execution_count": null,
   "metadata": {},
   "outputs": [],
   "source": []
  },
  {
   "cell_type": "code",
   "execution_count": null,
   "metadata": {},
   "outputs": [],
   "source": []
  }
 ],
 "metadata": {
  "kernelspec": {
   "display_name": "Python 3",
   "language": "python",
   "name": "python3"
  },
  "language_info": {
   "codemirror_mode": {
    "name": "ipython",
    "version": 3
   },
   "file_extension": ".py",
   "mimetype": "text/x-python",
   "name": "python",
   "nbconvert_exporter": "python",
   "pygments_lexer": "ipython3",
   "version": "3.8.5"
  }
 },
 "nbformat": 4,
 "nbformat_minor": 4
}
