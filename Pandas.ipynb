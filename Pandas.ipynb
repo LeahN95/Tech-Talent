{
 "cells": [
  {
   "cell_type": "code",
   "execution_count": null,
   "metadata": {},
   "outputs": [],
   "source": [
    "import pandas as pd\n",
    "\n",
    "holidaydata = pd.read_csv(\"Holiday Destinations.csv\")\n",
    "\n",
    "print(data)\n",
    "\n",
    "data.shape"
   ]
  },
  {
   "cell_type": "code",
   "execution_count": null,
   "metadata": {},
   "outputs": [],
   "source": [
    "#Print row 3-8 ( using iloc/loc)\n",
    "\n",
    "import pandas as pd \n",
    "\n",
    "data = pd.read_csv(\"Holiday Destinations.csv\")\n",
    "\n",
    "print(data.iloc[3:8])"
   ]
  },
  {
   "cell_type": "code",
   "execution_count": null,
   "metadata": {},
   "outputs": [],
   "source": [
    "#Print row 3-8 ( using iloc/loc)\n",
    "\n",
    "import pandas as pd \n",
    "\n",
    "data = pd.read_csv(\"Holiday Destinations.csv\", index_col =\"Destination\")\n",
    "\n",
    "print(data.loc [[\"Mozambique\",\"The Canary Islands\",\"Australia\", \"Ghana\", \"Columbia\"]])"
   ]
  },
  {
   "cell_type": "code",
   "execution_count": null,
   "metadata": {},
   "outputs": [],
   "source": [
    "#Find the mean number of all-inclusive hotels across all destinations\n",
    "\n",
    "import pandas as pd \n",
    "\n",
    "data = pd.read_csv(\"Holiday Destinations.csv\")\n",
    "\n",
    "data [\"All_inclusive_hotels\"].mean()\n",
    "\n"
   ]
  },
  {
   "cell_type": "code",
   "execution_count": null,
   "metadata": {},
   "outputs": [],
   "source": [
    "#Find the lowest + Highest scoring destination\n",
    "\n",
    "import pandas as pd \n",
    "\n",
    "data = pd.read_csv(\"Holiday Destinations.csv\")\n",
    "\n",
    "data.min()\n"
   ]
  },
  {
   "cell_type": "code",
   "execution_count": null,
   "metadata": {},
   "outputs": [],
   "source": [
    "data = pd.read_csv(\"Holiday Destinations.csv\")\n",
    "\n",
    "data.max()"
   ]
  },
  {
   "cell_type": "code",
   "execution_count": null,
   "metadata": {},
   "outputs": [],
   "source": [
    "#Find all the destinations where there are more than 9 all-inclusive hotels\n",
    "\n",
    "import pandas as pd \n",
    "\n",
    "data = pd.read_csv(\"Holiday Destinations.csv\")\n",
    "\n",
    "\n",
    "morethan_9 = data[\"Destination\"],data[\"All_inclusive_hotels\"]> 9\n",
    "\n",
    "print (morethan_9)"
   ]
  },
  {
   "cell_type": "code",
   "execution_count": null,
   "metadata": {},
   "outputs": [],
   "source": [
    "#Filter the data by destination and score above 8. \n",
    "\n",
    "import pandas as pd \n",
    "\n",
    "data = pd.read_csv(\"Holiday Destinations1.csv\")\n",
    "\n",
    "data [(data.Score>8) & (data.Destination)]"
   ]
  },
  {
   "cell_type": "code",
   "execution_count": null,
   "metadata": {},
   "outputs": [],
   "source": [
    "#Find all the destinations where there are more than 9 all-inclusive hotels\n",
    "\n",
    "import pandas as pd \n",
    "\n",
    "data = pd.read_csv(\"Holiday Destinations.csv\")\n",
    "\n",
    "data [(data.All_inclusive_hotels >9)]\n"
   ]
  },
  {
   "cell_type": "code",
   "execution_count": null,
   "metadata": {},
   "outputs": [],
   "source": [
    "\n",
    "import pandas as pd \n",
    "\n",
    "data = pd.read_csv(\"Holiday Destinations1.csv\")\n",
    "\n",
    "data [(data.Hotel_Score >8)]\n"
   ]
  },
  {
   "cell_type": "code",
   "execution_count": null,
   "metadata": {},
   "outputs": [],
   "source": [
    "import pandas as pd \n",
    "\n",
    "data = pd.read_csv(\"Holiday Destinations.csv\")\n",
    "\n",
    "data [(data.Score) & (data.All_inclusive_hotels)]\n",
    "\n",
    "column_1 = data[\"Score\"]\n",
    "column_2 = data[\"All_incusive_hotels\"]\n",
    "\n",
    "correlation = column_1.corr(column_2)"
   ]
  },
  {
   "cell_type": "code",
   "execution_count": null,
   "metadata": {},
   "outputs": [],
   "source": []
  },
  {
   "cell_type": "code",
   "execution_count": null,
   "metadata": {},
   "outputs": [],
   "source": [
    "import pandas as pd \n",
    "\n",
    "data = pd.read_csv(\"Holiday Destinations.csv\")\n",
    "\n"
   ]
  },
  {
   "cell_type": "code",
   "execution_count": null,
   "metadata": {},
   "outputs": [],
   "source": []
  }
 ],
 "metadata": {
  "kernelspec": {
   "display_name": "Python 3",
   "language": "python",
   "name": "python3"
  },
  "language_info": {
   "codemirror_mode": {
    "name": "ipython",
    "version": 3
   },
   "file_extension": ".py",
   "mimetype": "text/x-python",
   "name": "python",
   "nbconvert_exporter": "python",
   "pygments_lexer": "ipython3",
   "version": "3.8.5"
  }
 },
 "nbformat": 4,
 "nbformat_minor": 4
}
